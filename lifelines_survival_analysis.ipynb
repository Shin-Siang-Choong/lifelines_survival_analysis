{
 "cells": [
  {
   "cell_type": "code",
   "execution_count": 10,
   "metadata": {},
   "outputs": [
    {
     "data": {
      "text/html": [
       "<style>.container {width:100% !important;}</style>"
      ],
      "text/plain": [
       "<IPython.core.display.HTML object>"
      ]
     },
     "metadata": {},
     "output_type": "display_data"
    }
   ],
   "source": [
    "from IPython.core.display import display, HTML\n",
    "display(HTML(\"<style>.container {width:100% !important;}</style>\"))"
   ]
  },
  {
   "cell_type": "code",
   "execution_count": 15,
   "metadata": {},
   "outputs": [],
   "source": [
    "import pandas as pd\n",
    "import numpy as np\n",
    "from datetime import timedelta\n",
    "from lifelines import KaplanMeierFitter\n",
    "import matplotlib.pyplot as plt"
   ]
  },
  {
   "cell_type": "markdown",
   "metadata": {},
   "source": [
    "## data preprocessing"
   ]
  },
  {
   "cell_type": "code",
   "execution_count": 11,
   "metadata": {},
   "outputs": [],
   "source": [
    "df = pd.read_csv('survival_raw_data.csv')"
   ]
  },
  {
   "cell_type": "code",
   "execution_count": 26,
   "metadata": {},
   "outputs": [],
   "source": [
    "df['duration'] = ((pd.to_datetime(df['end']) - pd.to_datetime(df['start']))/timedelta(days=1)).map(np.floor) + 1"
   ]
  },
  {
   "cell_type": "code",
   "execution_count": 13,
   "metadata": {
    "scrolled": true
   },
   "outputs": [
    {
     "data": {
      "text/html": [
       "<div>\n",
       "<style scoped>\n",
       "    .dataframe tbody tr th:only-of-type {\n",
       "        vertical-align: middle;\n",
       "    }\n",
       "\n",
       "    .dataframe tbody tr th {\n",
       "        vertical-align: top;\n",
       "    }\n",
       "\n",
       "    .dataframe thead th {\n",
       "        text-align: right;\n",
       "    }\n",
       "</style>\n",
       "<table border=\"1\" class=\"dataframe\">\n",
       "  <thead>\n",
       "    <tr style=\"text-align: right;\">\n",
       "      <th></th>\n",
       "      <th>customer_id</th>\n",
       "      <th>start</th>\n",
       "      <th>end</th>\n",
       "      <th>cohort</th>\n",
       "      <th>stopped</th>\n",
       "      <th>duration</th>\n",
       "    </tr>\n",
       "  </thead>\n",
       "  <tbody>\n",
       "    <tr>\n",
       "      <th>0</th>\n",
       "      <td>0</td>\n",
       "      <td>2018-09-07 05:03:03.090</td>\n",
       "      <td>2019-01-25 06:10:01.913</td>\n",
       "      <td>Strictly defined</td>\n",
       "      <td>True</td>\n",
       "      <td>140.0</td>\n",
       "    </tr>\n",
       "    <tr>\n",
       "      <th>1</th>\n",
       "      <td>1</td>\n",
       "      <td>2018-09-07 05:03:03.278</td>\n",
       "      <td>2018-11-02 05:03:39.237</td>\n",
       "      <td>Strictly defined</td>\n",
       "      <td>True</td>\n",
       "      <td>56.0</td>\n",
       "    </tr>\n",
       "    <tr>\n",
       "      <th>2</th>\n",
       "      <td>2</td>\n",
       "      <td>2018-09-07 05:03:03.262</td>\n",
       "      <td>2019-06-14 05:15:38.497</td>\n",
       "      <td>Strictly defined</td>\n",
       "      <td>True</td>\n",
       "      <td>280.0</td>\n",
       "    </tr>\n",
       "    <tr>\n",
       "      <th>3</th>\n",
       "      <td>3</td>\n",
       "      <td>2018-09-07 05:03:03.199</td>\n",
       "      <td>2018-11-30 06:04:44.712</td>\n",
       "      <td>Strictly defined</td>\n",
       "      <td>True</td>\n",
       "      <td>84.0</td>\n",
       "    </tr>\n",
       "    <tr>\n",
       "      <th>4</th>\n",
       "      <td>4</td>\n",
       "      <td>2018-09-07 05:03:03.106</td>\n",
       "      <td>2019-09-20 05:18:05.638</td>\n",
       "      <td>Strictly defined</td>\n",
       "      <td>True</td>\n",
       "      <td>378.0</td>\n",
       "    </tr>\n",
       "  </tbody>\n",
       "</table>\n",
       "</div>"
      ],
      "text/plain": [
       "   customer_id                    start                      end  \\\n",
       "0            0  2018-09-07 05:03:03.090  2019-01-25 06:10:01.913   \n",
       "1            1  2018-09-07 05:03:03.278  2018-11-02 05:03:39.237   \n",
       "2            2  2018-09-07 05:03:03.262  2019-06-14 05:15:38.497   \n",
       "3            3  2018-09-07 05:03:03.199  2018-11-30 06:04:44.712   \n",
       "4            4  2018-09-07 05:03:03.106  2019-09-20 05:18:05.638   \n",
       "\n",
       "             cohort  stopped  duration  \n",
       "0  Strictly defined     True     140.0  \n",
       "1  Strictly defined     True      56.0  \n",
       "2  Strictly defined     True     280.0  \n",
       "3  Strictly defined     True      84.0  \n",
       "4  Strictly defined     True     378.0  "
      ]
     },
     "execution_count": 13,
     "metadata": {},
     "output_type": "execute_result"
    }
   ],
   "source": [
    "df.head()"
   ]
  },
  {
   "cell_type": "markdown",
   "metadata": {},
   "source": [
    "## Overall survival rate"
   ]
  },
  {
   "cell_type": "code",
   "execution_count": 27,
   "metadata": {
    "scrolled": false
   },
   "outputs": [
    {
     "data": {
      "text/plain": [
       "Text(0, 0.5, 'Survival rate')"
      ]
     },
     "execution_count": 27,
     "metadata": {},
     "output_type": "execute_result"
    },
    {
     "data": {
      "image/png": "[encoded data removed]",
      "text/plain": [
       "<Figure size 432x288 with 2 Axes>"
      ]
     },
     "metadata": {
      "needs_background": "light"
     },
     "output_type": "display_data"
    }
   ],
   "source": [
    "kmf = KaplanMeierFitter()\n",
    "# plt.figure(figsize=(8,5))\n",
    "kmf.fit(df[\"duration\"].map(round), df[\"stopped\"], label='Survival Rate')\n",
    "kmf.plot(at_risk_counts=True)\n",
    "plt.xlabel('Period (in days)')\n",
    "plt.ylabel('Survival rate')"
   ]
  },
  {
   "cell_type": "code",
   "execution_count": 28,
   "metadata": {
    "scrolled": true
   },
   "outputs": [
    {
     "data": {
      "text/html": [
       "<div>\n",
       "<style scoped>\n",
       "    .dataframe tbody tr th:only-of-type {\n",
       "        vertical-align: middle;\n",
       "    }\n",
       "\n",
       "    .dataframe tbody tr th {\n",
       "        vertical-align: top;\n",
       "    }\n",
       "\n",
       "    .dataframe thead th {\n",
       "        text-align: right;\n",
       "    }\n",
       "</style>\n",
       "<table border=\"1\" class=\"dataframe\">\n",
       "  <thead>\n",
       "    <tr style=\"text-align: right;\">\n",
       "      <th></th>\n",
       "      <th>Survival Rate</th>\n",
       "    </tr>\n",
       "    <tr>\n",
       "      <th>timeline</th>\n",
       "      <th></th>\n",
       "    </tr>\n",
       "  </thead>\n",
       "  <tbody>\n",
       "    <tr>\n",
       "      <th>0.0</th>\n",
       "      <td>1.000000</td>\n",
       "    </tr>\n",
       "    <tr>\n",
       "      <th>1.0</th>\n",
       "      <td>0.961936</td>\n",
       "    </tr>\n",
       "    <tr>\n",
       "      <th>2.0</th>\n",
       "      <td>0.959710</td>\n",
       "    </tr>\n",
       "    <tr>\n",
       "      <th>3.0</th>\n",
       "      <td>0.958010</td>\n",
       "    </tr>\n",
       "    <tr>\n",
       "      <th>4.0</th>\n",
       "      <td>0.956010</td>\n",
       "    </tr>\n",
       "    <tr>\n",
       "      <th>...</th>\n",
       "      <td>...</td>\n",
       "    </tr>\n",
       "    <tr>\n",
       "      <th>515.0</th>\n",
       "      <td>0.185892</td>\n",
       "    </tr>\n",
       "    <tr>\n",
       "      <th>519.0</th>\n",
       "      <td>0.185892</td>\n",
       "    </tr>\n",
       "    <tr>\n",
       "      <th>533.0</th>\n",
       "      <td>0.185892</td>\n",
       "    </tr>\n",
       "    <tr>\n",
       "      <th>547.0</th>\n",
       "      <td>0.185892</td>\n",
       "    </tr>\n",
       "    <tr>\n",
       "      <th>575.0</th>\n",
       "      <td>0.185892</td>\n",
       "    </tr>\n",
       "  </tbody>\n",
       "</table>\n",
       "<p>512 rows × 1 columns</p>\n",
       "</div>"
      ],
      "text/plain": [
       "          Survival Rate\n",
       "timeline               \n",
       "0.0            1.000000\n",
       "1.0            0.961936\n",
       "2.0            0.959710\n",
       "3.0            0.958010\n",
       "4.0            0.956010\n",
       "...                 ...\n",
       "515.0          0.185892\n",
       "519.0          0.185892\n",
       "533.0          0.185892\n",
       "547.0          0.185892\n",
       "575.0          0.185892\n",
       "\n",
       "[512 rows x 1 columns]"
      ]
     },
     "execution_count": 28,
     "metadata": {},
     "output_type": "execute_result"
    }
   ],
   "source": [
    "kmf.survival_function_"
   ]
  },
  {
   "cell_type": "markdown",
   "metadata": {},
   "source": [
    "## Actual calculation"
   ]
  },
  {
   "cell_type": "code",
   "execution_count": null,
   "metadata": {},
   "outputs": [],
   "source": [
    "at_risk = pd.DataFrame(pd.Series(\n",
    "    np.arange(dates_all['duration'].min(), dates_all['duration'].max())\n",
    ").apply(lambda x:risk_count(x))).reset_index().rename(\n",
    "    columns={'index':'duration', 0:'at_risk'}\n",
    ")\n",
    "at_risk['duration'] = at_risk['duration']+1"
   ]
  },
  {
   "cell_type": "code",
   "execution_count": 34,
   "metadata": {},
   "outputs": [],
   "source": [
    "def risk_count(df,x):\n",
    "    return (df['duration']>=x).sum()"
   ]
  },
  {
   "cell_type": "code",
   "execution_count": 39,
   "metadata": {},
   "outputs": [],
   "source": [
    "at_risk = pd.Series(\n",
    "    np.arange(df['duration'].min(), df['duration'].max())\n",
    ").apply(lambda x:risk_count(df,x)).reset_index().rename(\n",
    "    columns={'index':'duration', 0:'at_risk'}\n",
    ")\n",
    "at_risk['duration'] = at_risk['duration']+1"
   ]
  },
  {
   "cell_type": "code",
   "execution_count": 40,
   "metadata": {},
   "outputs": [],
   "source": [
    "death = df.groupby('duration')['stopped'].sum().reset_index()"
   ]
  },
  {
   "cell_type": "code",
   "execution_count": 42,
   "metadata": {},
   "outputs": [],
   "source": [
    "risk_death = at_risk.merge(death, how='left')"
   ]
  },
  {
   "cell_type": "code",
   "execution_count": 44,
   "metadata": {},
   "outputs": [],
   "source": [
    "risk_death['stopped'] = risk_death['stopped'].fillna(0)"
   ]
  },
  {
   "cell_type": "code",
   "execution_count": 45,
   "metadata": {},
   "outputs": [],
   "source": [
    "risk_death['surv_prob'] = 1 - risk_death['stopped']/risk_death['at_risk']\n",
    "risk_death['cum_surv_rate'] = risk_death['surv_prob'].cumprod()"
   ]
  },
  {
   "cell_type": "code",
   "execution_count": 47,
   "metadata": {
    "scrolled": true
   },
   "outputs": [
    {
     "data": {
      "text/html": [
       "<div>\n",
       "<style scoped>\n",
       "    .dataframe tbody tr th:only-of-type {\n",
       "        vertical-align: middle;\n",
       "    }\n",
       "\n",
       "    .dataframe tbody tr th {\n",
       "        vertical-align: top;\n",
       "    }\n",
       "\n",
       "    .dataframe thead th {\n",
       "        text-align: right;\n",
       "    }\n",
       "</style>\n",
       "<table border=\"1\" class=\"dataframe\">\n",
       "  <thead>\n",
       "    <tr style=\"text-align: right;\">\n",
       "      <th></th>\n",
       "      <th>duration</th>\n",
       "      <th>at_risk</th>\n",
       "      <th>stopped</th>\n",
       "      <th>surv_prob</th>\n",
       "      <th>cum_surv_rate</th>\n",
       "    </tr>\n",
       "  </thead>\n",
       "  <tbody>\n",
       "    <tr>\n",
       "      <th>0</th>\n",
       "      <td>1</td>\n",
       "      <td>57482</td>\n",
       "      <td>2188.0</td>\n",
       "      <td>0.961936</td>\n",
       "      <td>0.961936</td>\n",
       "    </tr>\n",
       "    <tr>\n",
       "      <th>1</th>\n",
       "      <td>2</td>\n",
       "      <td>54889</td>\n",
       "      <td>127.0</td>\n",
       "      <td>0.997686</td>\n",
       "      <td>0.959710</td>\n",
       "    </tr>\n",
       "    <tr>\n",
       "      <th>2</th>\n",
       "      <td>3</td>\n",
       "      <td>54740</td>\n",
       "      <td>97.0</td>\n",
       "      <td>0.998228</td>\n",
       "      <td>0.958010</td>\n",
       "    </tr>\n",
       "    <tr>\n",
       "      <th>3</th>\n",
       "      <td>4</td>\n",
       "      <td>54622</td>\n",
       "      <td>114.0</td>\n",
       "      <td>0.997913</td>\n",
       "      <td>0.956010</td>\n",
       "    </tr>\n",
       "    <tr>\n",
       "      <th>4</th>\n",
       "      <td>5</td>\n",
       "      <td>54491</td>\n",
       "      <td>96.0</td>\n",
       "      <td>0.998238</td>\n",
       "      <td>0.954326</td>\n",
       "    </tr>\n",
       "    <tr>\n",
       "      <th>...</th>\n",
       "      <td>...</td>\n",
       "      <td>...</td>\n",
       "      <td>...</td>\n",
       "      <td>...</td>\n",
       "      <td>...</td>\n",
       "    </tr>\n",
       "    <tr>\n",
       "      <th>569</th>\n",
       "      <td>570</td>\n",
       "      <td>1</td>\n",
       "      <td>0.0</td>\n",
       "      <td>1.000000</td>\n",
       "      <td>0.185892</td>\n",
       "    </tr>\n",
       "    <tr>\n",
       "      <th>570</th>\n",
       "      <td>571</td>\n",
       "      <td>1</td>\n",
       "      <td>0.0</td>\n",
       "      <td>1.000000</td>\n",
       "      <td>0.185892</td>\n",
       "    </tr>\n",
       "    <tr>\n",
       "      <th>571</th>\n",
       "      <td>572</td>\n",
       "      <td>1</td>\n",
       "      <td>0.0</td>\n",
       "      <td>1.000000</td>\n",
       "      <td>0.185892</td>\n",
       "    </tr>\n",
       "    <tr>\n",
       "      <th>572</th>\n",
       "      <td>573</td>\n",
       "      <td>1</td>\n",
       "      <td>0.0</td>\n",
       "      <td>1.000000</td>\n",
       "      <td>0.185892</td>\n",
       "    </tr>\n",
       "    <tr>\n",
       "      <th>573</th>\n",
       "      <td>574</td>\n",
       "      <td>1</td>\n",
       "      <td>0.0</td>\n",
       "      <td>1.000000</td>\n",
       "      <td>0.185892</td>\n",
       "    </tr>\n",
       "  </tbody>\n",
       "</table>\n",
       "<p>574 rows × 5 columns</p>\n",
       "</div>"
      ],
      "text/plain": [
       "     duration  at_risk  stopped  surv_prob  cum_surv_rate\n",
       "0           1    57482   2188.0   0.961936       0.961936\n",
       "1           2    54889    127.0   0.997686       0.959710\n",
       "2           3    54740     97.0   0.998228       0.958010\n",
       "3           4    54622    114.0   0.997913       0.956010\n",
       "4           5    54491     96.0   0.998238       0.954326\n",
       "..        ...      ...      ...        ...            ...\n",
       "569       570        1      0.0   1.000000       0.185892\n",
       "570       571        1      0.0   1.000000       0.185892\n",
       "571       572        1      0.0   1.000000       0.185892\n",
       "572       573        1      0.0   1.000000       0.185892\n",
       "573       574        1      0.0   1.000000       0.185892\n",
       "\n",
       "[574 rows x 5 columns]"
      ]
     },
     "execution_count": 47,
     "metadata": {},
     "output_type": "execute_result"
    }
   ],
   "source": [
    "risk_death"
   ]
  },
  {
   "cell_type": "markdown",
   "metadata": {},
   "source": [
    "Only consider those who are mature:"
   ]
  },
  {
   "cell_type": "code",
   "execution_count": 48,
   "metadata": {},
   "outputs": [],
   "source": [
    "risk_death['cum_death'] = risk_death['stopped'].cumsum()\n",
    "risk_death['mature_survival_rate'] = 1 - risk_death['cum_death']/(risk_death['cum_death'].shift(1).fillna(0)+risk_death['at_risk'])"
   ]
  },
  {
   "cell_type": "markdown",
   "metadata": {},
   "source": [
    "## Survival rate by cohort"
   ]
  },
  {
   "cell_type": "code",
   "execution_count": 30,
   "metadata": {},
   "outputs": [
    {
     "data": {
      "text/plain": [
       "Text(0, 0.5, 'survival rate')"
      ]
     },
     "execution_count": 30,
     "metadata": {},
     "output_type": "execute_result"
    },
    {
     "data": {
      "image/png": "[encoded data removed]",
      "text/plain": [
       "<Figure size 576x432 with 1 Axes>"
      ]
     },
     "metadata": {
      "needs_background": "light"
     },
     "output_type": "display_data"
    }
   ],
   "source": [
    "from lifelines import KaplanMeierFitter\n",
    "# ax = plt.subplot(111)\n",
    "kmf = KaplanMeierFitter()\n",
    "\n",
    "plt.figure(figsize=(8,6))\n",
    "for name, grouped_df in df.groupby('cohort'):\n",
    "    kmf.fit(grouped_df[\"duration\"], grouped_df[\"stopped\"], label=name)\n",
    "    kmf.plot()\n",
    "\n",
    "plt.xlabel('Number of txns')\n",
    "plt.ylabel('survival rate')"
   ]
  }
 ],
 "metadata": {
  "kernelspec": {
   "display_name": "Python 3",
   "language": "python",
   "name": "python3"
  },
  "language_info": {
   "codemirror_mode": {
    "name": "ipython",
    "version": 3
   },
   "file_extension": ".py",
   "mimetype": "text/x-python",
   "name": "python",
   "nbconvert_exporter": "python",
   "pygments_lexer": "ipython3",
   "version": "3.7.1"
  }
 },
 "nbformat": 4,
 "nbformat_minor": 2
}
